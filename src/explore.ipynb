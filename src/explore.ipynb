{
    "cells": [
        {
            "cell_type": "markdown",
            "metadata": {},
            "source": [
                "# Explore here"
            ]
        },
        {
            "cell_type": "code",
            "execution_count": 1,
            "metadata": {},
            "outputs": [],
            "source": [
                "# Your code here\n",
                "# Import the libraries\n",
                "import pandas as pd\n",
                "import numpy as np\n",
                "import matplotlib.pyplot as plt\n",
                "import seaborn as sns"
            ]
        },
        {
            "cell_type": "markdown",
            "metadata": {},
            "source": [
                "#### Step 1: Data collection"
            ]
        },
        {
            "cell_type": "code",
            "execution_count": null,
            "metadata": {},
            "outputs": [],
            "source": [
                "import pandas as pd\n",
                "\n",
                "data = pd.read_csv(\"https://raw.githubusercontent.com/4GeeksAcademy/data-preprocessing-project-tutorial/main/AB_NYC_2019.csv\")\n",
                "data.head()"
            ]
        },
        {
            "cell_type": "markdown",
            "metadata": {},
            "source": [
                "#### Step 2: Exploration and data cleaning"
            ]
        },
        {
            "cell_type": "code",
            "execution_count": null,
            "metadata": {},
            "outputs": [],
            "source": [
                "# Obtain dimensions\n",
                "data.shape"
            ]
        },
        {
            "cell_type": "code",
            "execution_count": null,
            "metadata": {},
            "outputs": [],
            "source": [
                "print(f\"The DataFrame contains {len(data)} records (rows) and {len(data.columns)} variables (columns).\\n\")"
            ]
        },
        {
            "cell_type": "code",
            "execution_count": null,
            "metadata": {},
            "outputs": [],
            "source": [
                "# Obtain information about data types and non-null values\n",
                "data.info()"
            ]
        },
        {
            "cell_type": "code",
            "execution_count": null,
            "metadata": {},
            "outputs": [],
            "source": [
                "print(\"We see that we have some NaN records, the biggest ones being last_review and reviews_per_month columns.\")"
            ]
        },
        {
            "cell_type": "code",
            "execution_count": null,
            "metadata": {},
            "outputs": [],
            "source": [
                "categorical_columns=[\"id\", \"name\", \"host_id\", \"host_name\", \"neighbourhood_group\", \"neighbourhood\", \"room_type\", \"availability_365\"]\n",
                "df_categorical_columns=data[categorical_columns]\n",
                "df_categorical_columns.head()"
            ]
        },
        {
            "cell_type": "code",
            "execution_count": null,
            "metadata": {},
            "outputs": [],
            "source": [
                "numerical_columns=[\"price\", \"latitude\", \"longitude\", \"minimum_nights\", \"number_of_reviews\", \"last_review\", \"reviews_per_month\", \"calculated_host_listings_count\"]\n",
                "df_numerical_columns=data[numerical_columns]\n",
                "df_numerical_columns.head()"
            ]
        },
        {
            "cell_type": "code",
            "execution_count": null,
            "metadata": {},
            "outputs": [],
            "source": [
                "print(\"Analysing the data we can divide the data in 8 categorical variables and 8 numerical variables.\\n\")\n",
                "print(f\"Categorical variables:{df_categorical_columns.columns}\\n\")\n",
                "print(f\"Numerical variables:{df_numerical_columns.columns}\\n\")"
            ]
        },
        {
            "cell_type": "markdown",
            "metadata": {},
            "source": [
                "Eliminate duplicates"
            ]
        },
        {
            "cell_type": "code",
            "execution_count": null,
            "metadata": {},
            "outputs": [],
            "source": [
                "data_dropped=data.dropna()\n",
                "data_dropped.head()"
            ]
        },
        {
            "cell_type": "code",
            "execution_count": null,
            "metadata": {},
            "outputs": [],
            "source": [
                "data_dropped.shape"
            ]
        },
        {
            "cell_type": "code",
            "execution_count": null,
            "metadata": {},
            "outputs": [],
            "source": [
                "print(f\"I eliminated the rows with NaN values, reducing the DataFrame from ({len(data)}, {len(data.columns)}) to ({len(data_dropped)}, {len(data_dropped.columns)})\")\n",
                "print(f\"Doing that I eliminated {(len(data))-(len(data_dropped))} rows, deleting {round((1-((len(data_dropped))/(len(data))))*(100),2)}% of the data, which may be significant for the analysis.\")"
            ]
        },
        {
            "cell_type": "code",
            "execution_count": null,
            "metadata": {},
            "outputs": [],
            "source": [
                "print(f\"The number of duplicated Name records is: {data['name'].duplicated().sum()}\")\n",
                "print(f\"The number of duplicated Host ID records is: {data['host_id'].duplicated().sum()}\")\n",
                "print(f\"The number of duplicated ID records is: {data['id'].duplicated().sum()}\")"
            ]
        },
        {
            "cell_type": "code",
            "execution_count": null,
            "metadata": {},
            "outputs": [],
            "source": [
                "print(\"name has duplicated values, which is odd, but duplicates can exist, since people can put the same names\")\n",
                "print(\"host_id can have duplicates, because some homeowners have multiple Airbnbs registered.\")\n",
                "print(\"There are 0 duplicated id, which means it should be all unique records.\")"
            ]
        },
        {
            "cell_type": "markdown",
            "metadata": {},
            "source": [
                "Eliminate irrelevant information"
            ]
        },
        {
            "cell_type": "code",
            "execution_count": null,
            "metadata": {},
            "outputs": [],
            "source": [
                "print(\"Eliminating the columns with duplicate values is a better solution in order to redice the zise of our DataFrame\")\n",
                "print(\"I also remove the latitude and longitude columns to simplify reading the DataFrame\")"
            ]
        },
        {
            "cell_type": "code",
            "execution_count": null,
            "metadata": {},
            "outputs": [],
            "source": [
                "data_c=data.copy()\n",
                "data_c.head()"
            ]
        },
        {
            "cell_type": "code",
            "execution_count": null,
            "metadata": {},
            "outputs": [],
            "source": [
                "data_c.drop([\"id\", \"name\", \"host_name\", \"last_review\", \"reviews_per_month\", \"latitude\", \"longitude\"], axis = 1, inplace = True)\n",
                "data_c.head()"
            ]
        },
        {
            "cell_type": "code",
            "execution_count": null,
            "metadata": {},
            "outputs": [],
            "source": [
                "data_c.info()"
            ]
        },
        {
            "cell_type": "markdown",
            "metadata": {},
            "source": [
                "### Step 3: Analysis of univariate variables"
            ]
        },
        {
            "cell_type": "markdown",
            "metadata": {},
            "source": [
                "Analysis of categorical variables"
            ]
        },
        {
            "cell_type": "code",
            "execution_count": null,
            "metadata": {},
            "outputs": [],
            "source": [
                "new_categorical_columns=[\"host_id\", \"neighbourhood_group\", \"neighbourhood\", \"room_type\", \"availability_365\"]\n",
                "df_new_categorical_columns=data_c[new_categorical_columns]\n",
                "df_new_categorical_columns.head()"
            ]
        },
        {
            "cell_type": "code",
            "execution_count": null,
            "metadata": {},
            "outputs": [],
            "source": [
                "host_id=data_c[\"host_id\"].value_counts()\n",
                "print(f\"{host_id}\\n\")"
            ]
        },
        {
            "cell_type": "code",
            "execution_count": null,
            "metadata": {},
            "outputs": [],
            "source": [
                "plt.figure(figsize=(6,6))\n",
                "sns.histplot(data = data_c, x = \"host_id\").set(xlabel =\"Host Id\", ylabel = \"Count\", title =None)\n",
                "plt.tight_layout()\n",
                "plt.show()"
            ]
        },
        {
            "cell_type": "code",
            "execution_count": null,
            "metadata": {},
            "outputs": [],
            "source": [
                "print(\"There are multiple Hosts with many rooms to rent.\")"
            ]
        },
        {
            "cell_type": "code",
            "execution_count": null,
            "metadata": {},
            "outputs": [],
            "source": [
                "neighbourhood_group=data_c[\"neighbourhood_group\"].value_counts()\n",
                "print(f\"{neighbourhood_group}\\n\")"
            ]
        },
        {
            "cell_type": "code",
            "execution_count": null,
            "metadata": {},
            "outputs": [],
            "source": [
                "plt.figure(figsize=(6,6))\n",
                "sns.barplot(x=neighbourhood_group.index, y=neighbourhood_group.values).set(xlabel =\"Neighbourhood Group\", ylabel = \"Count\", title =None)\n",
                "plt.tight_layout()\n",
                "plt.show()"
            ]
        },
        {
            "cell_type": "code",
            "execution_count": null,
            "metadata": {},
            "outputs": [],
            "source": [
                "print(\"In our dataset, we only have 5 areas, Brooklyn, Manhattan, Queens, Staten Island, and the Bronx\")\n",
                "print(\"Most of the houses offered are in Manhattan follewed by Brooklyn and Queens\")"
            ]
        },
        {
            "cell_type": "code",
            "execution_count": null,
            "metadata": {},
            "outputs": [],
            "source": [
                "neighbourhood=data_c[\"neighbourhood\"].value_counts()\n",
                "print(f\"{neighbourhood}\\n\")"
            ]
        },
        {
            "cell_type": "code",
            "execution_count": null,
            "metadata": {},
            "outputs": [],
            "source": [
                "plt.figure(figsize=(6,6))\n",
                "fg3=sns.histplot(data = data_c, x = \"neighbourhood\").set_xticks([])\n",
                "plt.tight_layout()\n",
                "plt.show()"
            ]
        },
        {
            "cell_type": "code",
            "execution_count": null,
            "metadata": {},
            "outputs": [],
            "source": [
                "print(\"In the same way the offered houses are concetrated in some neighborhoods.\")"
            ]
        },
        {
            "cell_type": "code",
            "execution_count": null,
            "metadata": {},
            "outputs": [],
            "source": [
                "room_type=data_c[\"room_type\"].value_counts()\n",
                "print(f\"{room_type}\\n\")"
            ]
        },
        {
            "cell_type": "code",
            "execution_count": null,
            "metadata": {},
            "outputs": [],
            "source": [
                "plt.figure(figsize=(6,6))\n",
                "sns.barplot(x=room_type.index, y=room_type.values).set(xlabel =\"Room Type\", ylabel = \"Count\", title =None)\n",
                "plt.tight_layout()\n",
                "plt.show()\n"
            ]
        },
        {
            "cell_type": "code",
            "execution_count": null,
            "metadata": {},
            "outputs": [],
            "source": [
                "print(\"There are more availability of entire Homes/Apts to rent than Private Rooms, and Shared Rooms is the least available type of room.\")"
            ]
        },
        {
            "cell_type": "code",
            "execution_count": null,
            "metadata": {},
            "outputs": [],
            "source": [
                "availability_365=data_c[\"availability_365\"].value_counts()\n",
                "print(f\"{availability_365}\\n\")"
            ]
        },
        {
            "cell_type": "code",
            "execution_count": null,
            "metadata": {},
            "outputs": [],
            "source": [
                "plt.figure(figsize=(6,6))\n",
                "sns.histplot(data = data_c, x = \"availability_365\").set(xlabel = \"Availability 365\", ylabel = \"Count\", title = None)\n",
                "plt.tight_layout()\n",
                "plt.show()"
            ]
        },
        {
            "cell_type": "code",
            "execution_count": null,
            "metadata": {},
            "outputs": [],
            "source": [
                "print(\"Most of the houses are not available during the year, however, there are plenty of them that are available all the year\")"
            ]
        },
        {
            "cell_type": "markdown",
            "metadata": {},
            "source": [
                "Analysis on numeric variables"
            ]
        },
        {
            "cell_type": "code",
            "execution_count": null,
            "metadata": {},
            "outputs": [],
            "source": [
                "new_numerical_columns=[\"price\", \"minimum_nights\", \"number_of_reviews\", \"calculated_host_listings_count\"]\n",
                "df_new_numerical_columns=data_c[new_numerical_columns]\n",
                "df_new_numerical_columns.head()"
            ]
        },
        {
            "cell_type": "code",
            "execution_count": null,
            "metadata": {},
            "outputs": [],
            "source": [
                "plt.figure(figsize=(6,6))\n",
                "f,(box,hist)=plt.subplots(2,sharex=True)\n",
                "sns.histplot(x=data_c[\"price\"],ax=hist)\n",
                "sns.boxplot(x=data_c[\"price\"],ax=box)\n",
                "\n",
                "plt.tight_layout()\n",
                "plt.show()"
            ]
        },
        {
            "cell_type": "code",
            "execution_count": null,
            "metadata": {},
            "outputs": [],
            "source": [
                "plt.figure(figsize=(6,6))\n",
                "f,(box,hist)=plt.subplots(2,sharex=True)\n",
                "sns.histplot(x=data_c[\"minimum_nights\"],ax=hist)\n",
                "sns.boxplot(x=data_c[\"minimum_nights\"],ax=box)\n",
                "\n",
                "plt.tight_layout()\n",
                "plt.show()"
            ]
        },
        {
            "cell_type": "code",
            "execution_count": null,
            "metadata": {},
            "outputs": [],
            "source": [
                "plt.figure(figsize=(6,6))\n",
                "f,(box,hist)=plt.subplots(2,sharex=True)\n",
                "sns.histplot(x=data_c[\"number_of_reviews\"],ax=hist)\n",
                "sns.boxplot(x=data_c[\"number_of_reviews\"],ax=box)\n",
                "\n",
                "plt.tight_layout()\n",
                "plt.show()"
            ]
        },
        {
            "cell_type": "code",
            "execution_count": null,
            "metadata": {},
            "outputs": [],
            "source": [
                "plt.figure(figsize=(6,6))\n",
                "f,(box,hist)=plt.subplots(2,sharex=True)\n",
                "sns.histplot(x=data_c[\"calculated_host_listings_count\"],ax=hist)\n",
                "sns.boxplot(x=data_c[\"calculated_host_listings_count\"],ax=box)\n",
                "\n",
                "plt.tight_layout()\n",
                "plt.show()"
            ]
        },
        {
            "cell_type": "code",
            "execution_count": null,
            "metadata": {},
            "outputs": [],
            "source": [
                "print(\"Analyzing the graphs, there are many values ​​out of range.\")"
            ]
        },
        {
            "cell_type": "markdown",
            "metadata": {},
            "source": [
                "#### Step 4: Analysis of multivariate variables"
            ]
        },
        {
            "cell_type": "markdown",
            "metadata": {},
            "source": [
                "Numerical-numerical analysis"
            ]
        },
        {
            "cell_type": "code",
            "execution_count": null,
            "metadata": {},
            "outputs": [],
            "source": [
                "plt.figure(figsize=(10,6))\n",
                "sns.heatmap(data_c[new_numerical_columns].corr().round(3),vmax=1,vmin=-1,annot=True)"
            ]
        },
        {
            "cell_type": "code",
            "execution_count": null,
            "metadata": {},
            "outputs": [],
            "source": [
                "print(\"Looking at the above relationships, we see that the relationship between the numerical variables is very low\")"
            ]
        },
        {
            "cell_type": "markdown",
            "metadata": {},
            "source": [
                "Categorical-categorical analysis"
            ]
        },
        {
            "cell_type": "code",
            "execution_count": null,
            "metadata": {},
            "outputs": [],
            "source": [
                "df_new_categorical_columns"
            ]
        },
        {
            "cell_type": "code",
            "execution_count": null,
            "metadata": {},
            "outputs": [],
            "source": [
                "fig, axis = plt.subplots(figsize = (5, 4))\n",
                "\n",
                "sns.countplot(data = data_c, x = \"room_type\", hue = \"neighbourhood_group\")\n",
                "\n",
                "# Show the plot\n",
                "plt.show()"
            ]
        },
        {
            "cell_type": "code",
            "execution_count": null,
            "metadata": {},
            "outputs": [],
            "source": [
                "print(\"Again, we see that the most of the available houses are located in Manhattan.\")\n",
                "print(\"There are not many shared rooms available for rent, by the other hand, there are many Entire home/aptments available for rent, meaning probably more people sharing their home or trying to maximize.\")"
            ]
        },
        {
            "cell_type": "markdown",
            "metadata": {},
            "source": [
                "Numerical-categorical analysis (complete)"
            ]
        },
        {
            "cell_type": "code",
            "execution_count": null,
            "metadata": {},
            "outputs": [],
            "source": [
                "data_c.info()"
            ]
        },
        {
            "cell_type": "code",
            "execution_count": null,
            "metadata": {},
            "outputs": [],
            "source": [
                "# Factorize the Room Type and Neighborhood Data\n",
                "data_c[\"room_type\"] = pd.factorize(data_c[\"room_type\"])[0]\n",
                "data_c[\"neighbourhood_group\"] = pd.factorize(data_c[\"neighbourhood_group\"])[0]\n",
                "data_c[\"neighbourhood\"] = pd.factorize(data_c[\"neighbourhood\"])[0]"
            ]
        },
        {
            "cell_type": "code",
            "execution_count": null,
            "metadata": {},
            "outputs": [],
            "source": [
                "fig, axes = plt.subplots(figsize=(10, 10))\n",
                "\n",
                "sns.heatmap(data_c[[\"host_id\", \"neighbourhood_group\", \"neighbourhood\", \"room_type\", \"price\", \"minimum_nights\", \"number_of_reviews\", \"calculated_host_listings_count\", \"availability_365\"]].corr(), annot = True, fmt = \".2f\")\n",
                "\n",
                "plt.tight_layout()\n",
                "\n",
                "# Draw Plot\n",
                "plt.show()"
            ]
        },
        {
            "cell_type": "code",
            "execution_count": null,
            "metadata": {},
            "outputs": [],
            "source": [
                "print(\"Looking at the data here, there's a very low correlation between all the data.\")\n",
                "print(\"As expected, there is a strong relationship between neighborhoods and Boroughs.\")"
            ]
        },
        {
            "cell_type": "markdown",
            "metadata": {},
            "source": [
                "Analysing all the Data at Once"
            ]
        },
        {
            "cell_type": "code",
            "execution_count": null,
            "metadata": {},
            "outputs": [],
            "source": [
                "sns.pairplot(data = data_c)"
            ]
        },
        {
            "cell_type": "markdown",
            "metadata": {},
            "source": [
                "#### Step 5: Feature engineering"
            ]
        },
        {
            "cell_type": "markdown",
            "metadata": {},
            "source": [
                "Outlier analysis"
            ]
        },
        {
            "cell_type": "code",
            "execution_count": null,
            "metadata": {},
            "outputs": [],
            "source": [
                "data_c.describe()"
            ]
        },
        {
            "cell_type": "code",
            "execution_count": null,
            "metadata": {},
            "outputs": [],
            "source": [
                "plt.figure(figsize=(6,6))\n",
                "sns.boxplot(data = data_c, y = \"neighbourhood_group\")\n",
                "plt.tight_layout()\n",
                "plt.show()"
            ]
        },
        {
            "cell_type": "code",
            "execution_count": null,
            "metadata": {},
            "outputs": [],
            "source": [
                "plt.figure(figsize=(6,6))\n",
                "sns.boxplot(data = data_c, y = \"room_type\")\n",
                "plt.tight_layout()\n",
                "plt.show()"
            ]
        },
        {
            "cell_type": "code",
            "execution_count": null,
            "metadata": {},
            "outputs": [],
            "source": [
                "plt.figure(figsize=(6,6))\n",
                "sns.boxplot(data = data_c, y = \"availability_365\")\n",
                "plt.tight_layout()\n",
                "plt.show()"
            ]
        },
        {
            "cell_type": "code",
            "execution_count": null,
            "metadata": {},
            "outputs": [],
            "source": [
                "print(\"From previous analysis we can easily determine that the variables affected by outliers are price, minimum_nights, number_of_reviews, calculated_host_listings_count.\")"
            ]
        },
        {
            "cell_type": "markdown",
            "metadata": {},
            "source": [
                "Missing value analysis"
            ]
        },
        {
            "cell_type": "code",
            "execution_count": null,
            "metadata": {},
            "outputs": [],
            "source": [
                "data_c.isnull().sum().sort_values(ascending=False)"
            ]
        },
        {
            "cell_type": "markdown",
            "metadata": {},
            "source": [
                "Feature scaling"
            ]
        },
        {
            "cell_type": "code",
            "execution_count": null,
            "metadata": {},
            "outputs": [],
            "source": [
                "from sklearn.preprocessing import MinMaxScaler\n",
                "\n",
                "num_variables = [\"number_of_reviews\", \"minimum_nights\", \"calculated_host_listings_count\", \n",
                "                 \"availability_365\", \"neighbourhood_group\", \"room_type\"]\n",
                "scaler = MinMaxScaler()\n",
                "scal_features = scaler.fit_transform(data_c[num_variables])\n",
                "df_scal = pd.DataFrame(scal_features, index = data_c.index, columns = num_variables)\n",
                "df_scal[\"price\"] = data_c[\"price\"]\n",
                "df_scal.head()"
            ]
        },
        {
            "cell_type": "markdown",
            "metadata": {},
            "source": [
                "#### Step 6: Feature selection"
            ]
        },
        {
            "cell_type": "code",
            "execution_count": null,
            "metadata": {},
            "outputs": [],
            "source": [
                "from sklearn.feature_selection import chi2, SelectKBest\n",
                "from sklearn.model_selection import train_test_split\n",
                "\n",
                "X = df_scal.drop(\"price\", axis = 1)\n",
                "y = df_scal[\"price\"]\n",
                "\n",
                "X_train, X_test, y_train, y_test = train_test_split(X, y, test_size = 0.2, random_state = 42)\n",
                "\n",
                "\n",
                "selection_model = SelectKBest(chi2, k = 4)\n",
                "selection_model.fit(X_train, y_train)\n",
                "ix = selection_model.get_support()\n",
                "X_train_sel = pd.DataFrame(selection_model.transform(X_train), columns = X_train.columns.values[ix])\n",
                "X_test_sel = pd.DataFrame(selection_model.transform(X_test), columns = X_test.columns.values[ix])\n",
                "\n",
                "X_train_sel.head()"
            ]
        },
        {
            "cell_type": "markdown",
            "metadata": {},
            "source": [
                "Save the clean and raw data"
            ]
        },
        {
            "cell_type": "code",
            "execution_count": null,
            "metadata": {},
            "outputs": [],
            "source": [
                "X_train_sel[\"price\"] = list(y_train)\n",
                "X_test_sel[\"price\"] = list(y_test)\n",
                "X_train_sel.to_csv(\"../data/processed/clean_train.csv\", index = False)\n",
                "X_test_sel.to_csv(\"../data/processed/clean_test.csv\", index = False)"
            ]
        }
    ],
    "metadata": {
        "kernelspec": {
            "display_name": "Python 3",
            "language": "python",
            "name": "python3"
        },
        "language_info": {
            "codemirror_mode": {
                "name": "ipython",
                "version": 3
            },
            "file_extension": ".py",
            "mimetype": "text/x-python",
            "name": "python",
            "nbconvert_exporter": "python",
            "pygments_lexer": "ipython3",
            "version": "3.11.4"
        },
        "orig_nbformat": 4
    },
    "nbformat": 4,
    "nbformat_minor": 2
}
